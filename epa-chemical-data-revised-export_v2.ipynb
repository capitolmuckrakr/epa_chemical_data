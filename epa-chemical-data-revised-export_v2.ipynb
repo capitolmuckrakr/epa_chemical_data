{
 "cells": [
  {
   "cell_type": "code",
   "execution_count": 1,
   "id": "0073217b-f849-4696-b1c7-c38b20d39435",
   "metadata": {},
   "outputs": [],
   "source": [
    "import pandas as pd, sqlite3"
   ]
  },
  {
   "cell_type": "code",
   "execution_count": 2,
   "id": "a7a9e2ca-8c19-4a5b-bd79-47b1126774eb",
   "metadata": {},
   "outputs": [],
   "source": [
    "pd.options.display.min_rows = 200\n",
    "pd.options.display.max_rows = 1000"
   ]
  },
  {
   "cell_type": "code",
   "execution_count": 3,
   "id": "ccef0369-2161-4b34-a2f9-e496af819d27",
   "metadata": {},
   "outputs": [],
   "source": [
    "conn = sqlite3.connect(\"epa_chemical_data_cleaned.db\")"
   ]
  },
  {
   "cell_type": "code",
   "execution_count": 4,
   "id": "ae1328dc-e20a-4083-a439-0ced96cb2801",
   "metadata": {},
   "outputs": [],
   "source": [
    "query1 = \"SELECT * FROM [2020-CDR-Manufacturing-Filtered-Cleaned];\""
   ]
  },
  {
   "cell_type": "code",
   "execution_count": 5,
   "id": "e023c3fb-1db7-4328-9568-47b17ae8b943",
   "metadata": {},
   "outputs": [],
   "source": [
    "manufacturing = pd.read_sql(query1,conn)"
   ]
  },
  {
   "cell_type": "code",
   "execution_count": 6,
   "id": "6befcd6c-e855-4d29-9e04-9bd117b527e1",
   "metadata": {},
   "outputs": [],
   "source": [
    "exported_columns = ['CHEMICAL REPORT ID', 'CHEMICAL NAME', 'CHEMICAL ID', 'DOMESTIC PARENT COMPANY NAME CLEANED', 'SITE NAME', 'SITE ADDRESS LINE1', 'SITE CITY CLEANED', 'SITE STATE', 'ACTIVITY', '2019 DOMESTIC PV',\n",
    "                    '2019 IMPORT PV', '2019 PV', '2018 PV', '2017 PV', '2016 PV', 'WORKERS', 'RECYCLED', 'Name', # These are the columns Pat requested for manufacturing\n",
    "                    'CHEMICAL ID W/O DASHES', 'CHEMICAL ID TYPE','DOMESTIC PARENT COMPANY NAME', 'DOMESTIC PC ADDRESS LINE1', 'DOMESTIC PC ADDRESS LINE2', 'DOMESTIC PC CITY', 'DOMESTIC PC COUNTY / PARISH',\n",
    "                    'DOMESTIC PC STATE', 'DOMESTIC PC POSTAL CODE', 'DOMESTIC PC DUN & BRADSTREET NUMBER', 'FOREIGN PARENT COMPANY NAME', 'FOREIGN PC ADDRESS LINE1', 'FOREIGN PC ADDRESS LINE2', 'FOREIGN PC CITY',\n",
    "                    'FOREIGN PC COUNTY / PARISH', 'FOREIGN PC POSTAL CODE', 'FOREIGN PC COUNTRY CODE', 'FOREIGN PC DUN & BRADSTREET NUMBER', 'SITE ADDRESS LINE2', 'SITE CITY', 'SITE COUNTY / PARISH', 'SITE POSTAL CODE',\n",
    "                    'SITE LATITUDE', 'SITE LONGITUDE', 'SITE DUN & BRADSTREET NUMBER', 'EPA-TSCA PROGRAM ID', 'EPA FACILITY REGISTRY ID', 'SITE NAICS CODE 1', 'SITE NAICS ACTIVITY 1', 'SITE NAICS CODE 2',\n",
    "                    'SITE NAICS ACTIVITY 2', 'SITE NAICS CODE 3', 'SITE NAICS ACTIVITY 3', '2019 NATIONALLY AGGREGATED PV', '2018 NATIONALLY AGGREGATED PV', '2017 NATIONALLY AGGREGATED PV', '2016 NATIONALLY AGGREGATED PV',\n",
    "                    'IMPORTED CHEM NEVER AT SITE', '2019 V USED ON-SITE', '2019 V EXPORTED', 'PCT BYP CODE', 'PERCENT BYPRODUCT', 'WORKERS CODE', 'MAX CONC CODE', 'MAXIMUM CONCENTRATION', 'PHYSICAL FORM(S)',\n",
    "                    'JOINT FC CODE', 'JOINT FUNCTION CATEGORY', 'JOINT FUNCT CAT OTHER DESC']"
   ]
  },
  {
   "cell_type": "code",
   "execution_count": 7,
   "id": "6e967321-6f20-4e6e-a30a-42c484e2ed9d",
   "metadata": {},
   "outputs": [],
   "source": [
    "manufacturing = manufacturing[exported_columns]"
   ]
  },
  {
   "cell_type": "code",
   "execution_count": 8,
   "id": "168fbe8d-ec4d-4ddb-b782-0da024dd319e",
   "metadata": {},
   "outputs": [],
   "source": [
    "query2 = \"SELECT * FROM [2020-CDR-Consumer-Filtered-Cleaned];\""
   ]
  },
  {
   "cell_type": "code",
   "execution_count": 9,
   "id": "26c5a705-74cc-4e08-8832-99f9123c8cc2",
   "metadata": {},
   "outputs": [],
   "source": [
    "consumer = pd.read_sql(query2,conn)"
   ]
  },
  {
   "cell_type": "code",
   "execution_count": 10,
   "id": "68bd0f80-3ae6-4b91-87bf-0784bfda1ac2",
   "metadata": {
    "tags": []
   },
   "outputs": [],
   "source": [
    "exported_columns = ['CHEMICAL_REPORT_ID', 'CHEMICAL NAME', 'CHEMICAL ID', 'DOMESTIC PARENT COMPANY NAME CLEANED', 'SITE NAME', 'SITE ADDRESS LINE1', 'SITE CITY CLEANED', 'SITE STATE', 'ACTIVITY', '2019 DOMESTIC PV',\n",
    "                    '2019 IMPORT PV', '2019 PV', '2018 PV', '2017 PV', '2016 PV', 'WORKERS', 'RECYCLED', 'CONS / COMM FUNCTION CATEGORY', 'CONS OR COMM USE', 'USED IN PROD FOR CHILDREN', 'Name', # These are the columns Pat requested for commercial\n",
    "                    'CHEMICAL ID W/O DASHES', 'CHEMICAL ID TYPE','DOMESTIC PARENT COMPANY NAME', 'DOMESTIC PC ADDRESS LINE1', 'DOMESTIC PC ADDRESS LINE2', 'DOMESTIC PC CITY', 'DOMESTIC PC COUNTY / PARISH',\n",
    "                    'DOMESTIC PC STATE', 'DOMESTIC PC POSTAL CODE', 'DOMESTIC PC DUN & BRADSTREET NUMBER', 'FOREIGN PARENT COMPANY NAME', 'FOREIGN PC ADDRESS LINE1', 'FOREIGN PC ADDRESS LINE2', 'FOREIGN PC CITY',\n",
    "                    'FOREIGN PC COUNTY / PARISH', 'FOREIGN PC POSTAL CODE', 'FOREIGN PC COUNTRY CODE', 'FOREIGN PC DUN & BRADSTREET NUMBER', 'SITE ADDRESS LINE2', 'SITE CITY', 'SITE COUNTY / PARISH', 'SITE POSTAL CODE',\n",
    "                    'SITE LATITUDE', 'SITE LONGITUDE', 'SITE DUN & BRADSTREET NUMBER', 'EPA-TSCA PROGRAM ID', 'EPA FACILITY REGISTRY ID', 'SITE NAICS CODE 1', 'SITE NAICS ACTIVITY 1', 'SITE NAICS CODE 2',\n",
    "                    'SITE NAICS ACTIVITY 2', 'SITE NAICS CODE 3', 'SITE NAICS ACTIVITY 3', '2019 NATIONALLY AGGREGATED PV', '2018 NATIONALLY AGGREGATED PV', '2017 NATIONALLY AGGREGATED PV', '2016 NATIONALLY AGGREGATED PV',\n",
    "                    'IMPORTED CHEM NEVER AT SITE', '2019 V USED ON-SITE', '2019 V EXPORTED', 'PCT BYP CODE', 'PERCENT BYPRODUCT', 'WORKERS CODE', 'MAX CONC CODE', 'MAXIMUM CONCENTRATION', 'PHYSICAL FORM(S)',\n",
    "                    'C / C PROD CAT CODE', 'CONSUMER / COMMERCIAL PRODUCT CATEGORY', 'CONS / COMM PROD CAT OTHER DESC', 'C / C FC CODE', 'CONS / COMM FUNCT CAT OTHER DESC', \n",
    "                    'JOINT FC CODE', 'JOINT FUNCTION CATEGORY', 'JOINT FUNCT CAT OTHER DESC', 'C / C PV PCT', 'C / C MAX CONC CODE', 'C / C MAXIMUM CONCENTRATION', 'COMM WORKERS CODE', 'COMMERCIAL WORKERS'\n",
    "                   ]"
   ]
  },
  {
   "cell_type": "code",
   "execution_count": 11,
   "id": "1cddb855-7c18-47f2-9fdc-01796258649b",
   "metadata": {},
   "outputs": [],
   "source": [
    "consumer = consumer[exported_columns]"
   ]
  },
  {
   "cell_type": "code",
   "execution_count": 12,
   "id": "2949d1c2-470c-46fe-b9c6-f5d3300ed661",
   "metadata": {},
   "outputs": [],
   "source": [
    "query3 = \"SELECT * FROM [2020-CDR-Industrial-Filtered-Cleaned];\""
   ]
  },
  {
   "cell_type": "code",
   "execution_count": 13,
   "id": "cd661a87-3af2-4d29-af45-f1dd2b4ef558",
   "metadata": {},
   "outputs": [],
   "source": [
    "industrial = pd.read_sql(query3,conn)"
   ]
  },
  {
   "cell_type": "code",
   "execution_count": 14,
   "id": "939a7ab8-4e3c-432f-aafd-69a47aeae3b0",
   "metadata": {
    "tags": []
   },
   "outputs": [],
   "source": [
    "exported_columns = ['CHEMICAL REPORT ID', 'CHEMICAL NAME', 'CHEMICAL ID', 'DOMESTIC_PARENT_COMPANY_NAME_CLEAN', 'SITE NAME', 'SITE ADDRESS LINE1', 'SITE_CITY_CLEANED', 'SITE STATE', 'ACTIVITY', '2019 DOMESTIC PV',\n",
    "                    '2019 IMPORT PV', '2019 PV', '2018 PV', '2017 PV', '2016 PV', 'WORKERS', 'RECYCLED', 'INDUSTRIAL SECTOR', 'INDUSTRIAL TYPE OF PROCESS OR USE OPERATION', 'IND FUNCT CAT OTHER DESC','INDUSTRIAL SITES',\n",
    "                    'Name', # These are the columns Pat requested for commercial\n",
    "                    'CHEMICAL ID W/O DASHES', 'CHEMICAL ID TYPE','DOMESTIC PARENT COMPANY NAME', 'DOMESTIC PC ADDRESS LINE1', 'DOMESTIC PC ADDRESS LINE2', 'DOMESTIC PC CITY', 'DOMESTIC PC COUNTY / PARISH',\n",
    "                    'DOMESTIC PC STATE', 'DOMESTIC PC POSTAL CODE', 'DOMESTIC PC DUN & BRADSTREET NUMBER', 'FOREIGN PARENT COMPANY NAME', 'FOREIGN PC ADDRESS LINE1', 'FOREIGN PC ADDRESS LINE2', 'FOREIGN PC CITY',\n",
    "                    'FOREIGN PC COUNTY / PARISH', 'FOREIGN PC POSTAL CODE', 'FOREIGN PC COUNTRY CODE', 'FOREIGN PC DUN & BRADSTREET NUMBER', 'SITE ADDRESS LINE2', 'SITE CITY', 'SITE COUNTY / PARISH', 'SITE POSTAL CODE',\n",
    "                    'SITE LATITUDE', 'SITE LONGITUDE', 'SITE DUN & BRADSTREET NUMBER', 'EPA-TSCA PROGRAM ID', 'EPA FACILITY REGISTRY ID', 'SITE NAICS CODE 1', 'SITE NAICS ACTIVITY 1', 'SITE NAICS CODE 2',\n",
    "                    'SITE NAICS ACTIVITY 2', 'SITE NAICS CODE 3', 'SITE NAICS ACTIVITY 3', '2019 NATIONALLY AGGREGATED PV', '2018 NATIONALLY AGGREGATED PV', '2017 NATIONALLY AGGREGATED PV', '2016 NATIONALLY AGGREGATED PV',\n",
    "                    'IMPORTED CHEM NEVER AT SITE', '2019 V USED ON-SITE', '2019 V EXPORTED', 'PCT BYP CODE', 'PERCENT BYPRODUCT', 'WORKERS CODE', 'MAX CONC CODE', 'MAXIMUM CONCENTRATION', 'PHYSICAL FORM(S)',\n",
    "                    'IND TYPE CODE', 'IND SECT CODE', 'IND SECTOR OTHER DESC', 'IND FC CODE', 'INDUSTRIAL FUNCTION CATEGORY', \n",
    "                    'JOINT FC CODE', 'JOINT FUNCTION CATEGORY', 'JOINT FUNCT CAT OTHER DESC', 'IND PV PCT', 'IND SITES CODE', 'IND WORKERS CODE', 'INDUSTRIAL WORKERS'\n",
    "                   ]"
   ]
  },
  {
   "cell_type": "code",
   "execution_count": 15,
   "id": "0462d271-46d0-47cc-b3a1-30c0782d5af1",
   "metadata": {},
   "outputs": [],
   "source": [
    "industrial = industrial[exported_columns]"
   ]
  },
  {
   "cell_type": "code",
   "execution_count": 16,
   "id": "0646400b-0c4a-4f60-a72b-27096b1ee95e",
   "metadata": {},
   "outputs": [],
   "source": [
    "query4 = \"SELECT * FROM [2020_CDR_Nationally_Aggregated_Production_Volumes_Filtered];\""
   ]
  },
  {
   "cell_type": "code",
   "execution_count": 17,
   "id": "0fc55254-f364-487c-bc3f-6db224c2c1c3",
   "metadata": {},
   "outputs": [],
   "source": [
    "national = pd.read_sql(query4, conn)"
   ]
  },
  {
   "cell_type": "code",
   "execution_count": 18,
   "id": "a21df5a8-3d2f-47b5-b4cd-45e9bfdd8afe",
   "metadata": {},
   "outputs": [],
   "source": [
    "manufacturing.fillna('',inplace=True)"
   ]
  },
  {
   "cell_type": "code",
   "execution_count": 19,
   "id": "4ae61b39-5869-4b54-826a-c78ee321309b",
   "metadata": {},
   "outputs": [],
   "source": [
    "consumer.fillna('',inplace=True)"
   ]
  },
  {
   "cell_type": "code",
   "execution_count": 20,
   "id": "7f31af7c-7d42-43c5-97c0-5920fe07316c",
   "metadata": {},
   "outputs": [],
   "source": [
    "industrial.fillna('',inplace=True)"
   ]
  },
  {
   "cell_type": "code",
   "execution_count": 21,
   "id": "1fbb0ba2-39ef-4333-8dfa-017493751107",
   "metadata": {},
   "outputs": [],
   "source": [
    "national.fillna('',inplace=True)"
   ]
  },
  {
   "cell_type": "code",
   "execution_count": 25,
   "id": "5c1180be-e59d-4545-9e6a-bc1863f6854b",
   "metadata": {},
   "outputs": [],
   "source": [
    "consumer.rename(columns={\"CHEMICAL_REPORT_ID\": \"CHEMICAL REPORT ID\", \"DOMESTIC_PARENT_COMPANY_NAME_CLEAN\": \"DOMESTIC PARENT COMPANY NAME CLEANED\",  }, inplace=True)"
   ]
  },
  {
   "cell_type": "code",
   "execution_count": 26,
   "id": "776ebdd0-7c45-4007-96e1-ca70b40fda1a",
   "metadata": {},
   "outputs": [],
   "source": [
    "industrial.rename(columns={\"DOMESTIC_PARENT_COMPANY_NAME_CLEAN\": \"DOMESTIC PARENT COMPANY NAME CLEANED\", \"SITE_CITY_CLEANED\": \"SITE CITY CLEANED\" }, inplace=True)"
   ]
  },
  {
   "cell_type": "code",
   "execution_count": 27,
   "id": "26cdd91d-c15b-4663-ba5a-ceea5e406bee",
   "metadata": {},
   "outputs": [],
   "source": [
    "conn = sqlite3.connect(\"epa-chemical-data-revised.db\")"
   ]
  },
  {
   "cell_type": "code",
   "execution_count": 28,
   "id": "7441913f-7e2f-4b93-949a-66b4ec10489e",
   "metadata": {},
   "outputs": [
    {
     "data": {
      "text/plain": [
       "452"
      ]
     },
     "execution_count": 28,
     "metadata": {},
     "output_type": "execute_result"
    }
   ],
   "source": [
    "industrial.to_sql('2020-CDR-Industrial-Filtered-Revised',index=False,con=conn)"
   ]
  },
  {
   "cell_type": "code",
   "execution_count": 29,
   "id": "c7b02cff-0647-4bd6-b98f-eeedff224ce3",
   "metadata": {},
   "outputs": [
    {
     "data": {
      "text/plain": [
       "277"
      ]
     },
     "execution_count": 29,
     "metadata": {},
     "output_type": "execute_result"
    }
   ],
   "source": [
    "manufacturing.to_sql('2020-CDR-Manufacturing-Filtered-Revised',index=False,con=conn)"
   ]
  },
  {
   "cell_type": "code",
   "execution_count": 30,
   "id": "7ae66b79-2583-45af-a656-3d60d851838e",
   "metadata": {},
   "outputs": [
    {
     "data": {
      "text/plain": [
       "401"
      ]
     },
     "execution_count": 30,
     "metadata": {},
     "output_type": "execute_result"
    }
   ],
   "source": [
    "consumer.to_sql('2020-CDR-Consumer-Filtered-Revised',index=False,con=conn)"
   ]
  },
  {
   "cell_type": "code",
   "execution_count": 31,
   "id": "f263bd2c-5b3d-4de0-8183-a9f7c7497d34",
   "metadata": {},
   "outputs": [
    {
     "data": {
      "text/plain": [
       "24"
      ]
     },
     "execution_count": 31,
     "metadata": {},
     "output_type": "execute_result"
    }
   ],
   "source": [
    "national.to_sql('2020_CDR_Nationally_Aggregated_Production_Volumes_Filtered',index=False,con=conn)"
   ]
  }
 ],
 "metadata": {
  "kernelspec": {
   "display_name": "Python 3 (ipykernel)",
   "language": "python",
   "name": "python3"
  },
  "language_info": {
   "codemirror_mode": {
    "name": "ipython",
    "version": 3
   },
   "file_extension": ".py",
   "mimetype": "text/x-python",
   "name": "python",
   "nbconvert_exporter": "python",
   "pygments_lexer": "ipython3",
   "version": "3.9.12"
  }
 },
 "nbformat": 4,
 "nbformat_minor": 5
}
