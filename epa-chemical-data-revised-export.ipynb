{
 "cells": [
  {
   "cell_type": "code",
   "execution_count": 1,
   "id": "0073217b-f849-4696-b1c7-c38b20d39435",
   "metadata": {},
   "outputs": [],
   "source": [
    "import pandas as pd, sqlite3"
   ]
  },
  {
   "cell_type": "code",
   "execution_count": 2,
   "id": "ccef0369-2161-4b34-a2f9-e496af819d27",
   "metadata": {},
   "outputs": [],
   "source": [
    "conn = sqlite3.connect(\"epa-chemical-data-revised.db\")"
   ]
  },
  {
   "cell_type": "code",
   "execution_count": 3,
   "id": "e023c3fb-1db7-4328-9568-47b17ae8b943",
   "metadata": {},
   "outputs": [],
   "source": [
    "manufacturing = pd.read_csv(\"data/2020-CDR-Manufacturing-Filtered-Cleaned-Revised.csv\")"
   ]
  },
  {
   "cell_type": "code",
   "execution_count": 7,
   "id": "26c5a705-74cc-4e08-8832-99f9123c8cc2",
   "metadata": {},
   "outputs": [],
   "source": [
    "consumer = pd.read_csv(\"data/2020-CDR-Consumer-Filtered-Cleaned-Revised.csv\")"
   ]
  },
  {
   "cell_type": "code",
   "execution_count": 9,
   "id": "2df11e71-e08f-47cc-a348-25cedcc33b43",
   "metadata": {},
   "outputs": [],
   "source": [
    "industrial = pd.read_csv(\"data/2020-CDR-Industrial-Filtered-Cleaned-Revised.csv\")"
   ]
  },
  {
   "cell_type": "code",
   "execution_count": 10,
   "id": "4fa4298a-71ba-4248-a70b-9432fafce415",
   "metadata": {},
   "outputs": [],
   "source": [
    "national = pd.read_csv(\"data/2020_CDR_Nationally_Aggregated_Production_Volumes_Filtered.csv\")"
   ]
  },
  {
   "cell_type": "code",
   "execution_count": 11,
   "id": "757d7ae4-a0e8-458f-a243-66db8dd650a0",
   "metadata": {
    "collapsed": true,
    "jupyter": {
     "outputs_hidden": true
    },
    "tags": []
   },
   "outputs": [
    {
     "data": {
      "text/html": [
       "<div>\n",
       "<style scoped>\n",
       "    .dataframe tbody tr th:only-of-type {\n",
       "        vertical-align: middle;\n",
       "    }\n",
       "\n",
       "    .dataframe tbody tr th {\n",
       "        vertical-align: top;\n",
       "    }\n",
       "\n",
       "    .dataframe thead th {\n",
       "        text-align: right;\n",
       "    }\n",
       "</style>\n",
       "<table border=\"1\" class=\"dataframe\">\n",
       "  <thead>\n",
       "    <tr style=\"text-align: right;\">\n",
       "      <th></th>\n",
       "      <th>CHEMICAL REPORT ID</th>\n",
       "      <th>CHEMICAL NAME</th>\n",
       "      <th>CHEMICAL ID</th>\n",
       "      <th>DOMESTIC PARENT COMPANY NAME CLEANED</th>\n",
       "      <th>SITE NAME</th>\n",
       "      <th>SITE ADDRESS LINE1</th>\n",
       "      <th>Unnamed: 6</th>\n",
       "      <th>SITE CITY CLEANED</th>\n",
       "      <th>SITE STATE</th>\n",
       "      <th>ACTIVITY</th>\n",
       "      <th>...</th>\n",
       "      <th>2019 V EXPORTED</th>\n",
       "      <th>PCT BYP CODE</th>\n",
       "      <th>PERCENT BYPRODUCT</th>\n",
       "      <th>WORKERS CODE</th>\n",
       "      <th>MAX CONC CODE</th>\n",
       "      <th>MAXIMUM CONCENTRATION</th>\n",
       "      <th>PHYSICAL FORM(S)</th>\n",
       "      <th>JOINT FC CODE</th>\n",
       "      <th>JOINT FUNCTION CATEGORY</th>\n",
       "      <th>JOINT FUNCT CAT OTHER DESC</th>\n",
       "    </tr>\n",
       "  </thead>\n",
       "  <tbody>\n",
       "    <tr>\n",
       "      <th>0</th>\n",
       "      <td>703707</td>\n",
       "      <td>Benzene, 1,4-dichloro-</td>\n",
       "      <td>106-46-7</td>\n",
       "      <td>CBI</td>\n",
       "      <td>CBI</td>\n",
       "      <td>CBI</td>\n",
       "      <td>NaN</td>\n",
       "      <td>CBI</td>\n",
       "      <td>CBI</td>\n",
       "      <td>Import</td>\n",
       "      <td>...</td>\n",
       "      <td>0</td>\n",
       "      <td>B1</td>\n",
       "      <td>0 percent by weight</td>\n",
       "      <td>W4</td>\n",
       "      <td>M5</td>\n",
       "      <td>90% +</td>\n",
       "      <td>Pellets or Large Crystals</td>\n",
       "      <td>NaN</td>\n",
       "      <td>NaN</td>\n",
       "      <td>NaN</td>\n",
       "    </tr>\n",
       "    <tr>\n",
       "      <th>1</th>\n",
       "      <td>706920</td>\n",
       "      <td>Benzene, 1,4-dichloro-</td>\n",
       "      <td>106-46-7</td>\n",
       "      <td>CELANESE</td>\n",
       "      <td>FORTRON INDUSTRIES</td>\n",
       "      <td>4600 HIGHWAY 421 NORTH</td>\n",
       "      <td>NaN</td>\n",
       "      <td>WILMINGTON</td>\n",
       "      <td>NC</td>\n",
       "      <td>Import</td>\n",
       "      <td>...</td>\n",
       "      <td>CBI</td>\n",
       "      <td>B1</td>\n",
       "      <td>0 percent by weight</td>\n",
       "      <td>W3</td>\n",
       "      <td>M5</td>\n",
       "      <td>90% +</td>\n",
       "      <td>Pellets or Large Crystals</td>\n",
       "      <td>NaN</td>\n",
       "      <td>NaN</td>\n",
       "      <td>NaN</td>\n",
       "    </tr>\n",
       "    <tr>\n",
       "      <th>2</th>\n",
       "      <td>707003</td>\n",
       "      <td>Benzene, 1,4-dichloro-</td>\n",
       "      <td>106-46-7</td>\n",
       "      <td>LANXESS CORPORATION</td>\n",
       "      <td>LANXESS CORPORATION---PITTSBURGH</td>\n",
       "      <td>111 RIDC PARK WEST DR</td>\n",
       "      <td>NaN</td>\n",
       "      <td>PITTSBURGH</td>\n",
       "      <td>PA</td>\n",
       "      <td>Import</td>\n",
       "      <td>...</td>\n",
       "      <td>0</td>\n",
       "      <td>B1</td>\n",
       "      <td>0 percent by weight</td>\n",
       "      <td>W1</td>\n",
       "      <td>M5</td>\n",
       "      <td>90% +</td>\n",
       "      <td>Other Solid</td>\n",
       "      <td>NaN</td>\n",
       "      <td>NaN</td>\n",
       "      <td>NaN</td>\n",
       "    </tr>\n",
       "    <tr>\n",
       "      <th>3</th>\n",
       "      <td>711389</td>\n",
       "      <td>Benzene, 1,4-dichloro-</td>\n",
       "      <td>106-46-7</td>\n",
       "      <td>SOLVAY HOLDING INC.</td>\n",
       "      <td>SOLVAY SPECIALTY POLYMERS USA, LLC</td>\n",
       "      <td>4500 MCGINNIS FERRY RD</td>\n",
       "      <td>NaN</td>\n",
       "      <td>ALPHARETTA</td>\n",
       "      <td>GA</td>\n",
       "      <td>Import</td>\n",
       "      <td>...</td>\n",
       "      <td>0</td>\n",
       "      <td>B1</td>\n",
       "      <td>0 percent by weight</td>\n",
       "      <td>W1</td>\n",
       "      <td>M5</td>\n",
       "      <td>90% +</td>\n",
       "      <td>Other Solid</td>\n",
       "      <td>NaN</td>\n",
       "      <td>NaN</td>\n",
       "      <td>NaN</td>\n",
       "    </tr>\n",
       "    <tr>\n",
       "      <th>4</th>\n",
       "      <td>714090</td>\n",
       "      <td>Benzene, 1,4-dichloro-</td>\n",
       "      <td>106-46-7</td>\n",
       "      <td>MARUBENI AMERICA CORPORATION</td>\n",
       "      <td>HOUSTON BRANCH</td>\n",
       "      <td>2800 POST OAK BLVD</td>\n",
       "      <td>NaN</td>\n",
       "      <td>HOUSTON</td>\n",
       "      <td>TX</td>\n",
       "      <td>Import</td>\n",
       "      <td>...</td>\n",
       "      <td>0</td>\n",
       "      <td>B1</td>\n",
       "      <td>0 percent by weight</td>\n",
       "      <td>W2</td>\n",
       "      <td>M5</td>\n",
       "      <td>90% +</td>\n",
       "      <td>Pellets or Large Crystals</td>\n",
       "      <td>NaN</td>\n",
       "      <td>NaN</td>\n",
       "      <td>NaN</td>\n",
       "    </tr>\n",
       "  </tbody>\n",
       "</table>\n",
       "<p>5 rows × 66 columns</p>\n",
       "</div>"
      ],
      "text/plain": [
       "   CHEMICAL REPORT ID           CHEMICAL NAME CHEMICAL ID  \\\n",
       "0              703707  Benzene, 1,4-dichloro-    106-46-7   \n",
       "1              706920  Benzene, 1,4-dichloro-    106-46-7   \n",
       "2              707003  Benzene, 1,4-dichloro-    106-46-7   \n",
       "3              711389  Benzene, 1,4-dichloro-    106-46-7   \n",
       "4              714090  Benzene, 1,4-dichloro-    106-46-7   \n",
       "\n",
       "  DOMESTIC PARENT COMPANY NAME CLEANED                           SITE NAME  \\\n",
       "0                                  CBI                                 CBI   \n",
       "1                             CELANESE                  FORTRON INDUSTRIES   \n",
       "2                  LANXESS CORPORATION    LANXESS CORPORATION---PITTSBURGH   \n",
       "3                  SOLVAY HOLDING INC.  SOLVAY SPECIALTY POLYMERS USA, LLC   \n",
       "4         MARUBENI AMERICA CORPORATION                      HOUSTON BRANCH   \n",
       "\n",
       "       SITE ADDRESS LINE1  Unnamed: 6 SITE CITY CLEANED SITE STATE ACTIVITY  \\\n",
       "0                     CBI         NaN               CBI        CBI   Import   \n",
       "1  4600 HIGHWAY 421 NORTH         NaN        WILMINGTON         NC   Import   \n",
       "2   111 RIDC PARK WEST DR         NaN        PITTSBURGH         PA   Import   \n",
       "3  4500 MCGINNIS FERRY RD         NaN        ALPHARETTA         GA   Import   \n",
       "4      2800 POST OAK BLVD         NaN           HOUSTON         TX   Import   \n",
       "\n",
       "   ... 2019 V EXPORTED PCT BYP CODE    PERCENT BYPRODUCT WORKERS CODE  \\\n",
       "0  ...               0           B1  0 percent by weight           W4   \n",
       "1  ...             CBI           B1  0 percent by weight           W3   \n",
       "2  ...               0           B1  0 percent by weight           W1   \n",
       "3  ...               0           B1  0 percent by weight           W1   \n",
       "4  ...               0           B1  0 percent by weight           W2   \n",
       "\n",
       "  MAX CONC CODE MAXIMUM CONCENTRATION           PHYSICAL FORM(S)  \\\n",
       "0            M5                 90% +  Pellets or Large Crystals   \n",
       "1            M5                 90% +  Pellets or Large Crystals   \n",
       "2            M5                 90% +                Other Solid   \n",
       "3            M5                 90% +                Other Solid   \n",
       "4            M5                 90% +  Pellets or Large Crystals   \n",
       "\n",
       "  JOINT FC CODE JOINT FUNCTION CATEGORY  JOINT FUNCT CAT OTHER DESC  \n",
       "0           NaN                     NaN                         NaN  \n",
       "1           NaN                     NaN                         NaN  \n",
       "2           NaN                     NaN                         NaN  \n",
       "3           NaN                     NaN                         NaN  \n",
       "4           NaN                     NaN                         NaN  \n",
       "\n",
       "[5 rows x 66 columns]"
      ]
     },
     "execution_count": 11,
     "metadata": {},
     "output_type": "execute_result"
    }
   ],
   "source": [
    "manufacturing.head()"
   ]
  },
  {
   "cell_type": "code",
   "execution_count": 15,
   "id": "62d10d23-e5cb-4c33-a3ec-fdd13e76fd38",
   "metadata": {},
   "outputs": [],
   "source": [
    "manufacturing = manufacturing.drop(columns=[\"Unnamed: 6\"])"
   ]
  },
  {
   "cell_type": "code",
   "execution_count": 19,
   "id": "a21df5a8-3d2f-47b5-b4cd-45e9bfdd8afe",
   "metadata": {},
   "outputs": [],
   "source": [
    "manufacturing.fillna('',inplace=True)"
   ]
  },
  {
   "cell_type": "code",
   "execution_count": 20,
   "id": "4ae61b39-5869-4b54-826a-c78ee321309b",
   "metadata": {},
   "outputs": [],
   "source": [
    "consumer.fillna('',inplace=True)"
   ]
  },
  {
   "cell_type": "code",
   "execution_count": 21,
   "id": "7f31af7c-7d42-43c5-97c0-5920fe07316c",
   "metadata": {},
   "outputs": [],
   "source": [
    "industrial.fillna('',inplace=True)"
   ]
  },
  {
   "cell_type": "code",
   "execution_count": 22,
   "id": "1fbb0ba2-39ef-4333-8dfa-017493751107",
   "metadata": {},
   "outputs": [],
   "source": [
    "national.fillna('',inplace=True)"
   ]
  },
  {
   "cell_type": "code",
   "execution_count": 25,
   "id": "7441913f-7e2f-4b93-949a-66b4ec10489e",
   "metadata": {},
   "outputs": [
    {
     "data": {
      "text/plain": [
       "452"
      ]
     },
     "execution_count": 25,
     "metadata": {},
     "output_type": "execute_result"
    }
   ],
   "source": [
    "industrial.to_sql('2020-CDR-Industrial-Filtered-Revised',index=False,con=conn)"
   ]
  },
  {
   "cell_type": "code",
   "execution_count": 26,
   "id": "c7b02cff-0647-4bd6-b98f-eeedff224ce3",
   "metadata": {},
   "outputs": [
    {
     "data": {
      "text/plain": [
       "277"
      ]
     },
     "execution_count": 26,
     "metadata": {},
     "output_type": "execute_result"
    }
   ],
   "source": [
    "manufacturing.to_sql('2020-CDR-Manufacturing-Filtered-Revised',index=False,con=conn)"
   ]
  },
  {
   "cell_type": "code",
   "execution_count": 27,
   "id": "7ae66b79-2583-45af-a656-3d60d851838e",
   "metadata": {},
   "outputs": [
    {
     "data": {
      "text/plain": [
       "401"
      ]
     },
     "execution_count": 27,
     "metadata": {},
     "output_type": "execute_result"
    }
   ],
   "source": [
    "consumer.to_sql('2020-CDR-Consumer-Filtered-Revised',index=False,con=conn)"
   ]
  },
  {
   "cell_type": "code",
   "execution_count": 28,
   "id": "f263bd2c-5b3d-4de0-8183-a9f7c7497d34",
   "metadata": {},
   "outputs": [
    {
     "data": {
      "text/plain": [
       "24"
      ]
     },
     "execution_count": 28,
     "metadata": {},
     "output_type": "execute_result"
    }
   ],
   "source": [
    "national.to_sql('2020_CDR_Nationally_Aggregated_Production_Volumes_Filtered',index=False,con=conn)"
   ]
  }
 ],
 "metadata": {
  "kernelspec": {
   "display_name": "Python 3 (ipykernel)",
   "language": "python",
   "name": "python3"
  },
  "language_info": {
   "codemirror_mode": {
    "name": "ipython",
    "version": 3
   },
   "file_extension": ".py",
   "mimetype": "text/x-python",
   "name": "python",
   "nbconvert_exporter": "python",
   "pygments_lexer": "ipython3",
   "version": "3.9.12"
  }
 },
 "nbformat": 4,
 "nbformat_minor": 5
}
